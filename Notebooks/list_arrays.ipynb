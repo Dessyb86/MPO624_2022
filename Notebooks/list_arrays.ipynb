{
 "cells": [
  {
   "cell_type": "markdown",
   "id": "f63d78ab-5b89-4c94-8150-3f168dc918d4",
   "metadata": {},
   "source": [
    "# Lists and Arrays in Python "
   ]
  },
  {
   "cell_type": "markdown",
   "id": "31e42795-7cba-4d1d-9c98-73e5c45b1715",
   "metadata": {},
   "source": [
    "### Over the next 15 mins we will look at built in methods and functions for lists in python followed by the differences and advantages of numpy arrays"
   ]
  },
  {
   "cell_type": "code",
   "execution_count": 335,
   "id": "0271f627",
   "metadata": {},
   "outputs": [],
   "source": [
    "# Creating lists"
   ]
  },
  {
   "cell_type": "code",
   "execution_count": 336,
   "id": "b8aa3e9d-99ab-4737-8737-522233ae9bcf",
   "metadata": {},
   "outputs": [],
   "source": [
    "import numpy as np\n",
    "\n",
    "a =[1,2,3,4,5] #list of first 5 whole numbers\n",
    "b=[11,12,13,14,15,16]"
   ]
  },
  {
   "cell_type": "code",
   "execution_count": 337,
   "id": "a57638b6",
   "metadata": {},
   "outputs": [],
   "source": [
    "#List Methods - Append, copy, clear, count, extend, insert, pop, remove, replace, sort"
   ]
  },
  {
   "cell_type": "code",
   "execution_count": 338,
   "id": "52f0974e",
   "metadata": {},
   "outputs": [
    {
     "data": {
      "text/plain": [
       "[1, 2, 3, 4, 5, 6]"
      ]
     },
     "execution_count": 338,
     "metadata": {},
     "output_type": "execute_result"
    }
   ],
   "source": [
    "a.append(6) #appending to a list\n",
    "a"
   ]
  },
  {
   "cell_type": "code",
   "execution_count": 339,
   "id": "4b6ec010",
   "metadata": {},
   "outputs": [],
   "source": [
    "#Python's functions on lists - len, list, max, min, range"
   ]
  },
  {
   "cell_type": "code",
   "execution_count": 340,
   "id": "4aa6d638",
   "metadata": {},
   "outputs": [
    {
     "name": "stdout",
     "output_type": "stream",
     "text": [
      "6\n"
     ]
    }
   ],
   "source": [
    "print(max(a))"
   ]
  },
  {
   "cell_type": "code",
   "execution_count": 341,
   "id": "3fb446f1",
   "metadata": {},
   "outputs": [],
   "source": [
    "#typecasting lists and matrices as numpy arrays"
   ]
  },
  {
   "cell_type": "code",
   "execution_count": 342,
   "id": "71310360",
   "metadata": {},
   "outputs": [
    {
     "data": {
      "text/plain": [
       "'June'"
      ]
     },
     "execution_count": 342,
     "metadata": {},
     "output_type": "execute_result"
    }
   ],
   "source": [
    "x = np.array(a)\n",
    "y = np.array(b)\n",
    "matrix = [[\"January\",31,\"garnet\"],[\"February\",28,\"amethyst\"],[\"March\",31,\"bloodstone\"],[\"April\",30,\"diamond\"],[\"May\",31,\"emerald\"],[\"June\",30,\"turquoise\"]]\n",
    "matrix[5][0]"
   ]
  },
  {
   "cell_type": "code",
   "execution_count": 343,
   "id": "f61760e4",
   "metadata": {},
   "outputs": [
    {
     "data": {
      "text/plain": [
       "array([['January', '31', 'garnet'],\n",
       "       ['February', '28', 'amethyst'],\n",
       "       ['March', '31', 'bloodstone'],\n",
       "       ['April', '30', 'diamond'],\n",
       "       ['May', '31', 'emerald'],\n",
       "       ['June', '30', 'turquoise']], dtype='<U21')"
      ]
     },
     "execution_count": 343,
     "metadata": {},
     "output_type": "execute_result"
    }
   ],
   "source": [
    "arr=np.array(matrix)\n",
    "arr"
   ]
  },
  {
   "cell_type": "code",
   "execution_count": 344,
   "id": "1dd9d513",
   "metadata": {},
   "outputs": [],
   "source": [
    "#numpy arrays make mathematical operations between arrays far easier"
   ]
  },
  {
   "cell_type": "code",
   "execution_count": 345,
   "id": "b0183067",
   "metadata": {},
   "outputs": [
    {
     "name": "stdout",
     "output_type": "stream",
     "text": [
      "[1, 2, 3, 4, 5, 6, 11, 12, 13, 14, 15, 16]\n"
     ]
    }
   ],
   "source": [
    "print(a+b) #appends instead of adding element by element"
   ]
  },
  {
   "cell_type": "code",
   "execution_count": 346,
   "id": "c5e0908f",
   "metadata": {},
   "outputs": [
    {
     "data": {
      "text/plain": [
       "[12, 14, 16, 18, 20, 22]"
      ]
     },
     "execution_count": 346,
     "metadata": {},
     "output_type": "execute_result"
    }
   ],
   "source": [
    "c=[]\n",
    "for i in range(len(a)):\n",
    "    c.append(a[i]+b[i])\n",
    "c"
   ]
  },
  {
   "cell_type": "code",
   "execution_count": 347,
   "id": "624e190e",
   "metadata": {},
   "outputs": [
    {
     "data": {
      "text/plain": [
       "array([12, 14, 16, 18, 20, 22])"
      ]
     },
     "execution_count": 347,
     "metadata": {},
     "output_type": "execute_result"
    }
   ],
   "source": [
    "d = x+y\n",
    "d"
   ]
  },
  {
   "cell_type": "code",
   "execution_count": 348,
   "id": "369634dc",
   "metadata": {},
   "outputs": [
    {
     "name": "stdout",
     "output_type": "stream",
     "text": [
      "[144 196 256 324 400 484]\n"
     ]
    }
   ],
   "source": [
    "print(d**2)"
   ]
  },
  {
   "cell_type": "code",
   "execution_count": 349,
   "id": "28fa56da",
   "metadata": {},
   "outputs": [],
   "source": [
    "#indexing and slincing arrays"
   ]
  },
  {
   "cell_type": "code",
   "execution_count": 350,
   "id": "2e908796",
   "metadata": {},
   "outputs": [
    {
     "name": "stdout",
     "output_type": "stream",
     "text": [
      "June\n"
     ]
    }
   ],
   "source": [
    "print(arr[5][0]) #also arr[5,10]"
   ]
  },
  {
   "cell_type": "code",
   "execution_count": 351,
   "id": "5890e63c",
   "metadata": {},
   "outputs": [
    {
     "data": {
      "text/plain": [
       "array(['January', 'February', 'March', 'April', 'May', 'June'],\n",
       "      dtype='<U21')"
      ]
     },
     "execution_count": 351,
     "metadata": {},
     "output_type": "execute_result"
    }
   ],
   "source": [
    "months = arr[:,0]\n",
    "months"
   ]
  },
  {
   "cell_type": "code",
   "execution_count": 352,
   "id": "0b27b4c1",
   "metadata": {},
   "outputs": [
    {
     "data": {
      "text/plain": [
       "array(['February', '28', 'amethyst'], dtype='<U21')"
      ]
     },
     "execution_count": 352,
     "metadata": {},
     "output_type": "execute_result"
    }
   ],
   "source": [
    "feb = arr[1,:]\n",
    "feb"
   ]
  },
  {
   "cell_type": "code",
   "execution_count": 353,
   "id": "df645065",
   "metadata": {},
   "outputs": [
    {
     "data": {
      "text/plain": [
       "array([['January', 'garnet'],\n",
       "       ['February', 'amethyst'],\n",
       "       ['March', 'bloodstone'],\n",
       "       ['April', 'diamond'],\n",
       "       ['May', 'emerald'],\n",
       "       ['June', 'turquoise']], dtype='<U21')"
      ]
     },
     "execution_count": 353,
     "metadata": {},
     "output_type": "execute_result"
    }
   ],
   "source": [
    "stones = arr[:,[0,2]] #extract first and third column\n",
    "stones"
   ]
  },
  {
   "cell_type": "code",
   "execution_count": null,
   "id": "fc9f4214",
   "metadata": {},
   "outputs": [],
   "source": []
  }
 ],
 "metadata": {
  "kernelspec": {
   "display_name": "Python 3 (ipykernel)",
   "language": "python",
   "name": "python3"
  },
  "language_info": {
   "codemirror_mode": {
    "name": "ipython",
    "version": 3
   },
   "file_extension": ".py",
   "mimetype": "text/x-python",
   "name": "python",
   "nbconvert_exporter": "python",
   "pygments_lexer": "ipython3",
   "version": "3.8.12"
  }
 },
 "nbformat": 4,
 "nbformat_minor": 5
}
